{
 "cells": [
  {
   "cell_type": "code",
   "execution_count": 20,
   "id": "b521c9e4",
   "metadata": {},
   "outputs": [],
   "source": [
    "import pandas as pd\n",
    "import numpy as np\n",
    "import matplotlib.pyplot as plt\n",
    "import datetime\n",
    "from ipywidgets import interact\n",
    "import seaborn as sns\n",
    "import missingno as msno\n",
    "\n",
    "from sklearn.model_selection import train_test_split\n",
    "from sklearn.ensemble import GradientBoostingRegressor,RandomForestRegressor\n",
    "from sklearn.linear_model import LinearRegression\n",
    "\n",
    "from sklearn.metrics import mean_squared_error, r2_score,mean_absolute_error\n",
    "from sklearn.preprocessing import StandardScaler\n",
    "from sklearn.neighbors import KNeighborsRegressor\n"
   ]
  },
  {
   "cell_type": "code",
   "execution_count": 21,
   "id": "53062700",
   "metadata": {},
   "outputs": [
    {
     "name": "stdout",
     "output_type": "stream",
     "text": [
      "Station Code             0\n",
      "Station Name             0\n",
      "District                 0\n",
      "Latitude                 0\n",
      "Longitude                0\n",
      "Year                     0\n",
      "Month                    0\n",
      "Day                      0\n",
      "Hour                     0\n",
      "Min Temperature      20135\n",
      "Max Temperature      13368\n",
      "Temp Dry Bulb          296\n",
      "Temp Wet Bulb          808\n",
      "Relative Humidity     8168\n",
      "Inst Wind Speed      32012\n",
      "Av Wind Speed        39147\n",
      "Wind direction        1739\n",
      "Pan Evaporation       3512\n",
      "Rainfall               746\n",
      "dtype: int64\n"
     ]
    }
   ],
   "source": [
    "import pandas as pd\n",
    "\n",
    "# List of raw paths to your CSV files\n",
    "csv_files = [\n",
    "    r'C:\\Users\\Nirranjana\\OneDrive\\Desktop\\rainfall.csv',\n",
    "    r'C:\\Users\\Nirranjana\\OneDrive\\Desktop\\Karur.csv',\n",
    "    r'C:\\Users\\Nirranjana\\OneDrive\\Desktop\\Dindigul.csv',\n",
    "]\n",
    "\n",
    "data = pd.DataFrame()\n",
    "for csv_file in csv_files:\n",
    "    try:\n",
    "        df = pd.read_csv(csv_file, encoding='ISO-8859-1')\n",
    "        data = pd.concat([data, df], ignore_index=True)\n",
    "    except UnicodeDecodeError:\n",
    "        print(f\"Could not read file {csv_file} with ISO-8859-1 encoding.\")\n",
    "        \n",
    "\n",
    "# Check for missing values (NaN) in the concatenated dataframe\n",
    "missing_values = data.isnull().sum()\n",
    "print(missing_values)"
   ]
  },
  {
   "cell_type": "code",
   "execution_count": 22,
   "id": "d705f07a",
   "metadata": {},
   "outputs": [
    {
     "data": {
      "text/plain": [
       "array([2000, 2001, 2002, 2003, 2004, 2005, 2006, 2007, 2008, 2009, 2010,\n",
       "       2011, 2012, 2013, 2014, 2015, 2016, 2017, 2018, 2019, 2020, 1985,\n",
       "       1986, 1987, 1988, 1989, 1990, 1991, 1992, 1993, 1994, 1995, 1996,\n",
       "       1997, 1998, 1999], dtype=int64)"
      ]
     },
     "execution_count": 22,
     "metadata": {},
     "output_type": "execute_result"
    }
   ],
   "source": [
    "data['Hour'] = pd.to_datetime(data['Hour'], format='%H:%M', errors='coerce', exact=False)\n",
    "data['Hour_Hour'] = data['Hour'].dt.minute\n",
    "data['Hour_Minute'] = data['Hour'].dt.hour\n",
    "years = data['Year'].unique()\n",
    "years"
   ]
  },
  {
   "cell_type": "code",
   "execution_count": 23,
   "id": "0e0e9f6d",
   "metadata": {},
   "outputs": [
    {
     "data": {
      "text/plain": [
       "array([ 1,  2,  3,  4,  5,  7,  8,  9, 11,  6, 10, 12], dtype=int64)"
      ]
     },
     "execution_count": 23,
     "metadata": {},
     "output_type": "execute_result"
    }
   ],
   "source": [
    "months = data['Month'].unique()\n",
    "months"
   ]
  },
  {
   "cell_type": "code",
   "execution_count": 24,
   "id": "accb243b",
   "metadata": {},
   "outputs": [
    {
     "name": "stdout",
     "output_type": "stream",
     "text": [
      "[26.415628790870592, 28.249930377752648, 30.5865550109945, 31.944433387725805, 31.56752578702254, 30.252099487602738, 29.674343367767815, 29.47744898948026, 29.340222287849826, 28.222819480069365, 26.86062665404519, 26.033781640727273]\n",
      "[21.768292785063597, 22.33336453118651, 23.642931090677987, 25.152788552347527, 25.348997162485066, 24.650042606993015, 24.22060020011534, 24.209331046817677, 24.295651822137877, 24.349024499077377, 23.65353439826871, 22.420855765250547]\n",
      "[65.81349319896812, 59.311984163031475, 55.62264070558077, 57.02449392693182, 59.42875267790724, 60.93074526576609, 61.67295432862396, 62.7750910903553, 64.32629477552318, 71.97820545304543, 75.45235578672379, 72.3408411998231]\n",
      "[2.7060875024544413, 3.7349923660082007, 4.227859880229524, 3.9980901142334235, 5.5461648667477474, 8.230098976066294, 9.853935817369758, 8.055723845501157, 5.448242612945507, 3.0024898996722005, 2.0194248335371134, 2.318167157402392]\n",
      "[3.120255614580511, 3.3665785944663416, 3.477817308900871, 3.903451969684718, 5.7864186740970505, 8.463156792960952, 9.299074401935213, 8.661523734785245, 6.168603458214883, 3.4717499993991434, 2.393176085128311, 2.840485871423676]\n",
      "[2.265525489198176, 2.7999534029859188, 3.3311961764867744, 3.4733211832422026, 3.503818430266945, 3.6542581609858087, 3.657279561618996, 3.528819243040338, 3.137927631473465, 2.377297363411452, 1.8899575898208818, 1.9154845926746904]\n"
     ]
    }
   ],
   "source": [
    "#seasonal filling for nulls\n",
    "def seasonal_fill(column):\n",
    "  c = 0\n",
    "  yearly = []\n",
    "  for year in years :\n",
    "    monthly = []\n",
    "    for month in range(1,13):\n",
    "      selected_rows = data[(data['Year'] == year) & (data['Month'] == month)]\n",
    "      monthly_avg = selected_rows[column].mean()\n",
    "      data.loc[(data['Year'] == year) & (data['Month'] == month), column] = monthly_avg\n",
    "      monthly.append(monthly_avg)\n",
    "    yearly.append(monthly)\n",
    "  means = []\n",
    "  for i in range(len(yearly[0])):\n",
    "    values = []\n",
    "    for j in range(len(yearly)):\n",
    "      values.append(yearly[j][i])\n",
    "    mean = np.nanmean(values)\n",
    "    means.append(mean)\n",
    "  print(means)\n",
    "  for val in range(len(means)):\n",
    "    data.loc[(data['Month'] == val+1) & (data[column].isna()|data[column].isnull()), column] = means[val]\n",
    "\n",
    "\n",
    "seasonal_fill('Temp Dry Bulb')\n",
    "seasonal_fill('Temp Wet Bulb')\n",
    "seasonal_fill('Relative Humidity')\n",
    "seasonal_fill('Inst Wind Speed')\n",
    "seasonal_fill('Av Wind Speed')\n",
    "seasonal_fill('Pan Evaporation')"
   ]
  },
  {
   "cell_type": "code",
   "execution_count": 25,
   "id": "cbbe4a73",
   "metadata": {},
   "outputs": [
    {
     "data": {
      "text/plain": [
       "Station Code             0\n",
       "Station Name             0\n",
       "District                 0\n",
       "Latitude                 0\n",
       "Longitude                0\n",
       "Year                     0\n",
       "Month                    0\n",
       "Day                      0\n",
       "Hour                     0\n",
       "Min Temperature      20135\n",
       "Max Temperature      13368\n",
       "Temp Dry Bulb            0\n",
       "Temp Wet Bulb            0\n",
       "Relative Humidity        0\n",
       "Inst Wind Speed          0\n",
       "Av Wind Speed            0\n",
       "Wind direction        1739\n",
       "Pan Evaporation          0\n",
       "Rainfall               746\n",
       "Hour_Hour                0\n",
       "Hour_Minute              0\n",
       "dtype: int64"
      ]
     },
     "execution_count": 25,
     "metadata": {},
     "output_type": "execute_result"
    }
   ],
   "source": [
    "data.isnull().sum()"
   ]
  },
  {
   "cell_type": "code",
   "execution_count": 26,
   "id": "a3579531",
   "metadata": {},
   "outputs": [],
   "source": [
    "#padding\n",
    "columns_to_fill = ['Min Temperature', 'Max Temperature','Rainfall']\n",
    "data[columns_to_fill] = data[columns_to_fill].fillna(method='ffill')"
   ]
  },
  {
   "cell_type": "code",
   "execution_count": 27,
   "id": "87426aa9",
   "metadata": {},
   "outputs": [
    {
     "name": "stdout",
     "output_type": "stream",
     "text": [
      "       Station Code                    Station Name  District    Latitude   \n",
      "0       BAVANISAGAR  Bhavanisagar FCS                   Erode   11°28'24\"  \\\n",
      "1       BAVANISAGAR  Bhavanisagar FCS                   Erode   11°28'24\"   \n",
      "2       BAVANISAGAR  Bhavanisagar FCS                   Erode   11°28'24\"   \n",
      "3       BAVANISAGAR  Bhavanisagar FCS                   Erode   11°28'24\"   \n",
      "4       BAVANISAGAR  Bhavanisagar FCS                   Erode   11°28'24\"   \n",
      "...             ...                             ...       ...         ...   \n",
      "121713  VIRALIPATTI  Viralipatti                     Dindigul  10Â°07'33\"   \n",
      "121714  VIRALIPATTI  Viralipatti                     Dindigul  10Â°07'33\"   \n",
      "121715  VIRALIPATTI  Viralipatti                     Dindigul  10Â°07'33\"   \n",
      "121716  VIRALIPATTI  Viralipatti                     Dindigul  10Â°07'33\"   \n",
      "121717  VIRALIPATTI  Viralipatti                     Dindigul  10Â°07'33\"   \n",
      "\n",
      "         Longitude  Year  Month  Day                Hour  Min Temperature   \n",
      "0        77°07'49\"  2000      1    1 1900-01-01 08:30:00             22.0  \\\n",
      "1        77°07'49\"  2000      1    1 1900-01-01 17:30:00             20.0   \n",
      "2        77°07'49\"  2000      1    2 1900-01-01 08:30:00             22.0   \n",
      "3        77°07'49\"  2000      1    2 1900-01-01 17:30:00             20.5   \n",
      "4        77°07'49\"  2000      1    3 1900-01-01 08:30:00             20.5   \n",
      "...            ...   ...    ...  ...                 ...              ...   \n",
      "121713  77Â°42'28\"  2020     12   29 1900-01-01 17:30:00             24.0   \n",
      "121714  77Â°42'28\"  2020     12   30 1900-01-01 08:30:00             23.3   \n",
      "121715  77Â°42'28\"  2020     12   30 1900-01-01 17:30:00             24.0   \n",
      "121716  77Â°42'28\"  2020     12   31 1900-01-01 08:30:00             23.2   \n",
      "121717  77Â°42'28\"  2020     12   31 1900-01-01 17:30:00             23.0   \n",
      "\n",
      "        ...  Wind_direction_NW  Wind_direction_S  Wind_direction_SE   \n",
      "0       ...              False             False              False  \\\n",
      "1       ...              False             False              False   \n",
      "2       ...              False             False              False   \n",
      "3       ...              False             False              False   \n",
      "4       ...              False             False              False   \n",
      "...     ...                ...               ...                ...   \n",
      "121713  ...              False             False              False   \n",
      "121714  ...              False             False              False   \n",
      "121715  ...              False             False              False   \n",
      "121716  ...              False             False              False   \n",
      "121717  ...              False             False              False   \n",
      "\n",
      "        Wind_direction_SSE  Wind_direction_SSW  Wind_direction_SW   \n",
      "0                    False               False              False  \\\n",
      "1                    False               False              False   \n",
      "2                    False               False              False   \n",
      "3                    False               False              False   \n",
      "4                    False               False              False   \n",
      "...                    ...                 ...                ...   \n",
      "121713               False               False              False   \n",
      "121714               False               False              False   \n",
      "121715               False               False              False   \n",
      "121716               False               False              False   \n",
      "121717               False               False              False   \n",
      "\n",
      "        Wind_direction_V  Wind_direction_W  Wind_direction_WNW   \n",
      "0                  False             False               False  \\\n",
      "1                  False             False               False   \n",
      "2                  False             False               False   \n",
      "3                  False             False               False   \n",
      "4                  False             False               False   \n",
      "...                  ...               ...                 ...   \n",
      "121713             False             False               False   \n",
      "121714             False             False               False   \n",
      "121715             False             False               False   \n",
      "121716             False             False               False   \n",
      "121717             False             False               False   \n",
      "\n",
      "        Wind_direction_WSW  \n",
      "0                    False  \n",
      "1                    False  \n",
      "2                    False  \n",
      "3                    False  \n",
      "4                    False  \n",
      "...                    ...  \n",
      "121713               False  \n",
      "121714               False  \n",
      "121715               False  \n",
      "121716               False  \n",
      "121717               False  \n",
      "\n",
      "[121718 rows x 38 columns]\n"
     ]
    }
   ],
   "source": [
    "#one hot encoding categorical values\n",
    "data['Wind direction'].unique()\n",
    "data_encoded = pd.get_dummies(data, columns=['Wind direction'], prefix='Wind_direction')\n",
    "print(data_encoded)"
   ]
  },
  {
   "cell_type": "code",
   "execution_count": 28,
   "id": "91adb80f",
   "metadata": {},
   "outputs": [
    {
     "data": {
      "text/plain": [
       "Station Code            0\n",
       "Station Name            0\n",
       "District                0\n",
       "Latitude                0\n",
       "Longitude               0\n",
       "Year                    0\n",
       "Month                   0\n",
       "Day                     0\n",
       "Hour                    0\n",
       "Min Temperature         0\n",
       "Max Temperature         0\n",
       "Temp Dry Bulb           0\n",
       "Temp Wet Bulb           0\n",
       "Relative Humidity       0\n",
       "Inst Wind Speed         0\n",
       "Av Wind Speed           0\n",
       "Wind direction       1739\n",
       "Pan Evaporation         0\n",
       "Rainfall                0\n",
       "Hour_Hour               0\n",
       "Hour_Minute             0\n",
       "dtype: int64"
      ]
     },
     "execution_count": 28,
     "metadata": {},
     "output_type": "execute_result"
    }
   ],
   "source": [
    "data.isnull().sum()"
   ]
  },
  {
   "cell_type": "code",
   "execution_count": 29,
   "id": "ac865322",
   "metadata": {},
   "outputs": [],
   "source": [
    "mae_l = []\n",
    "mse_l = []\n",
    "rmse_l = []\n",
    "r2_l = []\n",
    "def Metrics(ytest, ypred):\n",
    "    mae = mean_absolute_error(ytest, ypred)\n",
    "    mse = mean_squared_error(ytest, ypred)\n",
    "    rmse = mse ** 0.5\n",
    "    r2 = r2_score(ytest, ypred)\n",
    "    mae_l.append(mae)\n",
    "    mse_l.append(mse)\n",
    "    rmse_l.append(rmse)\n",
    "    r2_l.append(r2)\n",
    "    print(\"MAE: \", mae)\n",
    "    print(\"MSE: \", mse)\n",
    "    print(\"RMSE: \", rmse)\n",
    "    print(\"R-Squared: \", r2)"
   ]
  },
  {
   "cell_type": "code",
   "execution_count": 30,
   "id": "36731679",
   "metadata": {},
   "outputs": [],
   "source": [
    "X = data[[\n",
    "    \"Year\",\n",
    "    \"Month\",\n",
    "    \"Day\",\n",
    "    \"Hour_Hour\",\n",
    "    \"Hour_Minute\",\n",
    "    \"Rainfall\",\n",
    "    \"Min Temperature\",\n",
    "    \"Max Temperature\",\n",
    "    \"Temp Dry Bulb\",\n",
    "    \"Temp Wet Bulb\",\n",
    "    \"Relative Humidity\",\n",
    "    \"Inst Wind Speed\",\n",
    "    \"Av Wind Speed\",\n",
    "    \"Pan Evaporation\"]]\n",
    "y = data['Rainfall']\n",
    "\n",
    "X_train, X_test, y_train, y_test = train_test_split(X, y, test_size=0.3, random_state=42)"
   ]
  },
  {
   "cell_type": "code",
   "execution_count": 31,
   "id": "f94e439c",
   "metadata": {},
   "outputs": [
    {
     "name": "stdout",
     "output_type": "stream",
     "text": [
      "MAE:  0.007446151999397402\n",
      "MSE:  0.0018602818618860867\n",
      "RMSE:  0.04313098493990239\n",
      "R-Squared:  0.9999370134101535\n",
      "Model took 17.210383892059326 seconds to run.\n"
     ]
    }
   ],
   "source": [
    "#GradientBOOST\n",
    "\n",
    "import time\n",
    "start_time = time.time()\n",
    "\n",
    "gb_regressor = GradientBoostingRegressor(n_estimators=110, random_state=42)\n",
    "gb_regressor.fit(X_train, y_train)\n",
    "y_pred = gb_regressor.predict(X_test)\n",
    "\n",
    "Metrics(y_test,y_pred)\n",
    "end_time = time.time()\n",
    "elapsed_time_gb = end_time - start_time\n",
    "print(f\"Model took {elapsed_time_gb} seconds to run.\")"
   ]
  },
  {
   "cell_type": "code",
   "execution_count": 32,
   "id": "7093fae6",
   "metadata": {},
   "outputs": [
    {
     "name": "stdout",
     "output_type": "stream",
     "text": [
      "MAE:  0.0009125753094536218\n",
      "MSE:  0.0005653078201336421\n",
      "RMSE:  0.023776202811501296\n",
      "R-Squared:  0.9999808594533263\n",
      "Model took 32.744951486587524 seconds to run.\n"
     ]
    }
   ],
   "source": [
    "#random forest\n",
    "import time\n",
    "\n",
    "start_time = time.time()\n",
    "\n",
    "\n",
    "rf_regressor = RandomForestRegressor(n_estimators=100, random_state=42)\n",
    "rf_regressor.fit(X_train, y_train)\n",
    "y_pred = rf_regressor.predict(X_test)\n",
    "\n",
    "Metrics(y_test,y_pred)\n",
    "end_time = time.time()\n",
    "elapsed_time_rf = end_time - start_time\n",
    "print(f\"Model took {elapsed_time_rf} seconds to run.\")\n"
   ]
  },
  {
   "cell_type": "code",
   "execution_count": 38,
   "id": "6bb29ba2",
   "metadata": {},
   "outputs": [
    {
     "name": "stdout",
     "output_type": "stream",
     "text": [
      "MAE:  0.14207295432139336\n",
      "MSE:  0.2720883785737759\n",
      "RMSE:  0.5216209146245728\n",
      "R-Squared:  0.9904729259283064\n",
      "Model took 7.824233770370483 seconds to run.\n"
     ]
    }
   ],
   "source": [
    "#knn\n",
    "\n",
    "import time\n",
    "\n",
    "start_time = time.time()\n",
    "knn_model = KNeighborsRegressor()\n",
    "knn_model.fit(X_train, y_train)\n",
    "y_pred = knn_model.predict(X_test)\n",
    "\n",
    "Metrics(y_test,y_pred)\n",
    "\n",
    "end_time = time.time()\n",
    "elapsed_time = end_time - start_time\n",
    "print(f\"Model took {elapsed_time_knn} seconds to run.\")"
   ]
  },
  {
   "cell_type": "code",
   "execution_count": 43,
   "id": "7bcb749a",
   "metadata": {},
   "outputs": [
    {
     "ename": "ValueError",
     "evalue": "shape mismatch: objects cannot be broadcast to a single shape.  Mismatch is between arg 0 with shape (3,) and arg 1 with shape (4,).",
     "output_type": "error",
     "traceback": [
      "\u001b[1;31m---------------------------------------------------------------------------\u001b[0m",
      "\u001b[1;31mValueError\u001b[0m                                Traceback (most recent call last)",
      "Cell \u001b[1;32mIn[43], line 10\u001b[0m\n\u001b[0;32m      7\u001b[0m bar_width \u001b[38;5;241m=\u001b[39m \u001b[38;5;241m0.2\u001b[39m\n\u001b[0;32m      8\u001b[0m index \u001b[38;5;241m=\u001b[39m np\u001b[38;5;241m.\u001b[39marange(\u001b[38;5;28mlen\u001b[39m(model_names))\n\u001b[1;32m---> 10\u001b[0m \u001b[43max\u001b[49m\u001b[38;5;241;43m.\u001b[39;49m\u001b[43mbar\u001b[49m\u001b[43m(\u001b[49m\u001b[43mindex\u001b[49m\u001b[43m \u001b[49m\u001b[38;5;241;43m-\u001b[39;49m\u001b[43m \u001b[49m\u001b[43mbar_width\u001b[49m\u001b[43m,\u001b[49m\u001b[43m \u001b[49m\u001b[43mmae_l\u001b[49m\u001b[43m,\u001b[49m\u001b[43m \u001b[49m\u001b[43mbar_width\u001b[49m\u001b[43m,\u001b[49m\u001b[43m \u001b[49m\u001b[43mcolor\u001b[49m\u001b[38;5;241;43m=\u001b[39;49m\u001b[38;5;124;43m'\u001b[39;49m\u001b[38;5;124;43msalmon\u001b[39;49m\u001b[38;5;124;43m'\u001b[39;49m\u001b[43m,\u001b[49m\u001b[43m \u001b[49m\u001b[43mlabel\u001b[49m\u001b[38;5;241;43m=\u001b[39;49m\u001b[38;5;124;43m'\u001b[39;49m\u001b[38;5;124;43mMAE\u001b[39;49m\u001b[38;5;124;43m'\u001b[39;49m\u001b[43m)\u001b[49m\n\u001b[0;32m     11\u001b[0m ax\u001b[38;5;241m.\u001b[39mbar(index, mse_l, bar_width, color\u001b[38;5;241m=\u001b[39m\u001b[38;5;124m'\u001b[39m\u001b[38;5;124mred\u001b[39m\u001b[38;5;124m'\u001b[39m, label\u001b[38;5;241m=\u001b[39m\u001b[38;5;124m'\u001b[39m\u001b[38;5;124mMSE\u001b[39m\u001b[38;5;124m'\u001b[39m)\n\u001b[0;32m     12\u001b[0m ax\u001b[38;5;241m.\u001b[39mbar(index \u001b[38;5;241m+\u001b[39m bar_width, r2_l, bar_width, color\u001b[38;5;241m=\u001b[39m\u001b[38;5;124m'\u001b[39m\u001b[38;5;124mlightblue\u001b[39m\u001b[38;5;124m'\u001b[39m, label\u001b[38;5;241m=\u001b[39m\u001b[38;5;124m'\u001b[39m\u001b[38;5;124mR2\u001b[39m\u001b[38;5;124m'\u001b[39m)\n",
      "File \u001b[1;32m~\\AppData\\Local\\Programs\\Python\\Python310\\lib\\site-packages\\matplotlib\\__init__.py:1461\u001b[0m, in \u001b[0;36m_preprocess_data.<locals>.inner\u001b[1;34m(ax, data, *args, **kwargs)\u001b[0m\n\u001b[0;32m   1458\u001b[0m \u001b[38;5;129m@functools\u001b[39m\u001b[38;5;241m.\u001b[39mwraps(func)\n\u001b[0;32m   1459\u001b[0m \u001b[38;5;28;01mdef\u001b[39;00m \u001b[38;5;21minner\u001b[39m(ax, \u001b[38;5;241m*\u001b[39margs, data\u001b[38;5;241m=\u001b[39m\u001b[38;5;28;01mNone\u001b[39;00m, \u001b[38;5;241m*\u001b[39m\u001b[38;5;241m*\u001b[39mkwargs):\n\u001b[0;32m   1460\u001b[0m     \u001b[38;5;28;01mif\u001b[39;00m data \u001b[38;5;129;01mis\u001b[39;00m \u001b[38;5;28;01mNone\u001b[39;00m:\n\u001b[1;32m-> 1461\u001b[0m         \u001b[38;5;28;01mreturn\u001b[39;00m func(ax, \u001b[38;5;241m*\u001b[39m\u001b[38;5;28mmap\u001b[39m(sanitize_sequence, args), \u001b[38;5;241m*\u001b[39m\u001b[38;5;241m*\u001b[39mkwargs)\n\u001b[0;32m   1463\u001b[0m     bound \u001b[38;5;241m=\u001b[39m new_sig\u001b[38;5;241m.\u001b[39mbind(ax, \u001b[38;5;241m*\u001b[39margs, \u001b[38;5;241m*\u001b[39m\u001b[38;5;241m*\u001b[39mkwargs)\n\u001b[0;32m   1464\u001b[0m     auto_label \u001b[38;5;241m=\u001b[39m (bound\u001b[38;5;241m.\u001b[39marguments\u001b[38;5;241m.\u001b[39mget(label_namer)\n\u001b[0;32m   1465\u001b[0m                   \u001b[38;5;129;01mor\u001b[39;00m bound\u001b[38;5;241m.\u001b[39mkwargs\u001b[38;5;241m.\u001b[39mget(label_namer))\n",
      "File \u001b[1;32m~\\AppData\\Local\\Programs\\Python\\Python310\\lib\\site-packages\\matplotlib\\axes\\_axes.py:2409\u001b[0m, in \u001b[0;36mAxes.bar\u001b[1;34m(self, x, height, width, bottom, align, **kwargs)\u001b[0m\n\u001b[0;32m   2406\u001b[0m     \u001b[38;5;28;01mif\u001b[39;00m yerr \u001b[38;5;129;01mis\u001b[39;00m \u001b[38;5;129;01mnot\u001b[39;00m \u001b[38;5;28;01mNone\u001b[39;00m:\n\u001b[0;32m   2407\u001b[0m         yerr \u001b[38;5;241m=\u001b[39m \u001b[38;5;28mself\u001b[39m\u001b[38;5;241m.\u001b[39m_convert_dx(yerr, y0, y, \u001b[38;5;28mself\u001b[39m\u001b[38;5;241m.\u001b[39mconvert_yunits)\n\u001b[1;32m-> 2409\u001b[0m x, height, width, y, linewidth, hatch \u001b[38;5;241m=\u001b[39m \u001b[43mnp\u001b[49m\u001b[38;5;241;43m.\u001b[39;49m\u001b[43mbroadcast_arrays\u001b[49m\u001b[43m(\u001b[49m\n\u001b[0;32m   2410\u001b[0m \u001b[43m    \u001b[49m\u001b[38;5;66;43;03m# Make args iterable too.\u001b[39;49;00m\n\u001b[0;32m   2411\u001b[0m \u001b[43m    \u001b[49m\u001b[43mnp\u001b[49m\u001b[38;5;241;43m.\u001b[39;49m\u001b[43matleast_1d\u001b[49m\u001b[43m(\u001b[49m\u001b[43mx\u001b[49m\u001b[43m)\u001b[49m\u001b[43m,\u001b[49m\u001b[43m \u001b[49m\u001b[43mheight\u001b[49m\u001b[43m,\u001b[49m\u001b[43m \u001b[49m\u001b[43mwidth\u001b[49m\u001b[43m,\u001b[49m\u001b[43m \u001b[49m\u001b[43my\u001b[49m\u001b[43m,\u001b[49m\u001b[43m \u001b[49m\u001b[43mlinewidth\u001b[49m\u001b[43m,\u001b[49m\u001b[43m \u001b[49m\u001b[43mhatch\u001b[49m\u001b[43m)\u001b[49m\n\u001b[0;32m   2413\u001b[0m \u001b[38;5;66;03m# Now that units have been converted, set the tick locations.\u001b[39;00m\n\u001b[0;32m   2414\u001b[0m \u001b[38;5;28;01mif\u001b[39;00m orientation \u001b[38;5;241m==\u001b[39m \u001b[38;5;124m'\u001b[39m\u001b[38;5;124mvertical\u001b[39m\u001b[38;5;124m'\u001b[39m:\n",
      "File \u001b[1;32m<__array_function__ internals>:200\u001b[0m, in \u001b[0;36mbroadcast_arrays\u001b[1;34m(*args, **kwargs)\u001b[0m\n",
      "File \u001b[1;32m~\\AppData\\Local\\Programs\\Python\\Python310\\lib\\site-packages\\numpy\\lib\\stride_tricks.py:540\u001b[0m, in \u001b[0;36mbroadcast_arrays\u001b[1;34m(subok, *args)\u001b[0m\n\u001b[0;32m    533\u001b[0m \u001b[38;5;66;03m# nditer is not used here to avoid the limit of 32 arrays.\u001b[39;00m\n\u001b[0;32m    534\u001b[0m \u001b[38;5;66;03m# Otherwise, something like the following one-liner would suffice:\u001b[39;00m\n\u001b[0;32m    535\u001b[0m \u001b[38;5;66;03m# return np.nditer(args, flags=['multi_index', 'zerosize_ok'],\u001b[39;00m\n\u001b[0;32m    536\u001b[0m \u001b[38;5;66;03m#                  order='C').itviews\u001b[39;00m\n\u001b[0;32m    538\u001b[0m args \u001b[38;5;241m=\u001b[39m [np\u001b[38;5;241m.\u001b[39marray(_m, copy\u001b[38;5;241m=\u001b[39m\u001b[38;5;28;01mFalse\u001b[39;00m, subok\u001b[38;5;241m=\u001b[39msubok) \u001b[38;5;28;01mfor\u001b[39;00m _m \u001b[38;5;129;01min\u001b[39;00m args]\n\u001b[1;32m--> 540\u001b[0m shape \u001b[38;5;241m=\u001b[39m \u001b[43m_broadcast_shape\u001b[49m\u001b[43m(\u001b[49m\u001b[38;5;241;43m*\u001b[39;49m\u001b[43margs\u001b[49m\u001b[43m)\u001b[49m\n\u001b[0;32m    542\u001b[0m \u001b[38;5;28;01mif\u001b[39;00m \u001b[38;5;28mall\u001b[39m(array\u001b[38;5;241m.\u001b[39mshape \u001b[38;5;241m==\u001b[39m shape \u001b[38;5;28;01mfor\u001b[39;00m array \u001b[38;5;129;01min\u001b[39;00m args):\n\u001b[0;32m    543\u001b[0m     \u001b[38;5;66;03m# Common case where nothing needs to be broadcasted.\u001b[39;00m\n\u001b[0;32m    544\u001b[0m     \u001b[38;5;28;01mreturn\u001b[39;00m args\n",
      "File \u001b[1;32m~\\AppData\\Local\\Programs\\Python\\Python310\\lib\\site-packages\\numpy\\lib\\stride_tricks.py:422\u001b[0m, in \u001b[0;36m_broadcast_shape\u001b[1;34m(*args)\u001b[0m\n\u001b[0;32m    417\u001b[0m \u001b[38;5;250m\u001b[39m\u001b[38;5;124;03m\"\"\"Returns the shape of the arrays that would result from broadcasting the\u001b[39;00m\n\u001b[0;32m    418\u001b[0m \u001b[38;5;124;03msupplied arrays against each other.\u001b[39;00m\n\u001b[0;32m    419\u001b[0m \u001b[38;5;124;03m\"\"\"\u001b[39;00m\n\u001b[0;32m    420\u001b[0m \u001b[38;5;66;03m# use the old-iterator because np.nditer does not handle size 0 arrays\u001b[39;00m\n\u001b[0;32m    421\u001b[0m \u001b[38;5;66;03m# consistently\u001b[39;00m\n\u001b[1;32m--> 422\u001b[0m b \u001b[38;5;241m=\u001b[39m \u001b[43mnp\u001b[49m\u001b[38;5;241;43m.\u001b[39;49m\u001b[43mbroadcast\u001b[49m\u001b[43m(\u001b[49m\u001b[38;5;241;43m*\u001b[39;49m\u001b[43margs\u001b[49m\u001b[43m[\u001b[49m\u001b[43m:\u001b[49m\u001b[38;5;241;43m32\u001b[39;49m\u001b[43m]\u001b[49m\u001b[43m)\u001b[49m\n\u001b[0;32m    423\u001b[0m \u001b[38;5;66;03m# unfortunately, it cannot handle 32 or more arguments directly\u001b[39;00m\n\u001b[0;32m    424\u001b[0m \u001b[38;5;28;01mfor\u001b[39;00m pos \u001b[38;5;129;01min\u001b[39;00m \u001b[38;5;28mrange\u001b[39m(\u001b[38;5;241m32\u001b[39m, \u001b[38;5;28mlen\u001b[39m(args), \u001b[38;5;241m31\u001b[39m):\n\u001b[0;32m    425\u001b[0m     \u001b[38;5;66;03m# ironically, np.broadcast does not properly handle np.broadcast\u001b[39;00m\n\u001b[0;32m    426\u001b[0m     \u001b[38;5;66;03m# objects (it treats them as scalars)\u001b[39;00m\n\u001b[0;32m    427\u001b[0m     \u001b[38;5;66;03m# use broadcasting to avoid allocating the full array\u001b[39;00m\n",
      "\u001b[1;31mValueError\u001b[0m: shape mismatch: objects cannot be broadcast to a single shape.  Mismatch is between arg 0 with shape (3,) and arg 1 with shape (4,)."
     ]
    },
    {
     "data": {
      "image/png": "[encoded data removed]",
      "text/plain": [
       "<Figure size 600x600 with 1 Axes>"
      ]
     },
     "metadata": {},
     "output_type": "display_data"
    }
   ],
   "source": [
    "import matplotlib.pyplot as plt\n",
    "import numpy as np\n",
    "\n",
    "model_names = [\"GradientBoost\", \"Random Forest\", \"KNN\"]\n",
    "\n",
    "fig, ax = plt.subplots(figsize=(6, 6))\n",
    "bar_width = 0.2\n",
    "index = np.arange(len(model_names))\n",
    "\n",
    "ax.bar(index - bar_width, mae_l, bar_width, color='salmon', label='MAE')\n",
    "ax.bar(index, mse_l, bar_width, color='red', label='MSE')\n",
    "ax.bar(index + bar_width, r2_l, bar_width, color='lightblue', label='R2')\n",
    "\n",
    "ax.set_xlabel(\"Models\")\n",
    "ax.set_title(\"MAE, MSE and R2 for Different Models\")\n",
    "ax.set_xticks(index)\n",
    "ax.set_xticklabels(model_names, rotation=45)\n",
    "ax.legend()\n",
    "plt.tight_layout()\n",
    "plt.show()"
   ]
  },
  {
   "cell_type": "code",
   "execution_count": 44,
   "id": "c38de318",
   "metadata": {},
   "outputs": [
    {
     "data": {
      "image/png": "[encoded data removed]",
      "text/plain": [
       "<Figure size 640x480 with 1 Axes>"
      ]
     },
     "metadata": {},
     "output_type": "display_data"
    }
   ],
   "source": [
    "import matplotlib.pyplot as plt\n",
    "\n",
    "# Names of the models\n",
    "models = ['Random Forest', 'Gradient Boosting', 'k-Nearest Neighbors']\n",
    "\n",
    "# Corresponding elapsed times\n",
    "elapsed_times = [elapsed_time_rf, elapsed_time_gb, elapsed_time_knn]\n",
    "\n",
    "# Create a bar chart\n",
    "plt.bar(models, elapsed_times, color='salmon')\n",
    "\n",
    "# Label the axes\n",
    "plt.xlabel('Models')\n",
    "plt.ylabel('Elapsed Time (seconds)')\n",
    "\n",
    "# Set the title\n",
    "plt.title('Execution Time of Different Models')\n",
    "for i, v in enumerate(elapsed_times):\n",
    "    plt.text(i, v, f'{v:.2f} s', ha='center', va='bottom')\n",
    "\n",
    "# Show the plot\n",
    "plt.show()\n"
   ]
  },
  {
   "cell_type": "code",
   "execution_count": null,
   "id": "1c18cd22",
   "metadata": {},
   "outputs": [],
   "source": []
  },
  {
   "cell_type": "code",
   "execution_count": null,
   "id": "320c6ae9",
   "metadata": {},
   "outputs": [],
   "source": []
  }
 ],
 "metadata": {
  "kernelspec": {
   "display_name": "Python 3 (ipykernel)",
   "language": "python",
   "name": "python3"
  },
  "language_info": {
   "codemirror_mode": {
    "name": "ipython",
    "version": 3
   },
   "file_extension": ".py",
   "mimetype": "text/x-python",
   "name": "python",
   "nbconvert_exporter": "python",
   "pygments_lexer": "ipython3",
   "version": "3.10.0"
  }
 },
 "nbformat": 4,
 "nbformat_minor": 5
}
